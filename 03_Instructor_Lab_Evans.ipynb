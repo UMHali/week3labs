{
 "cells": [
  {
   "cell_type": "markdown",
   "id": "381e8466-25b8-4e1f-a3f4-8c0ae68c2e79",
   "metadata": {},
   "source": [
    "from IPython.core.interactiveshell import InteractiveShell \n",
    "InteractiveShell.ast_node_interactivity = \"all\""
   ]
  },
  {
   "cell_type": "markdown",
   "id": "cff6132a-9830-4037-a801-63c3da780883",
   "metadata": {},
   "source": [
    "BGEN632 - Evans\n",
    "\n",
    "# Week 3 Instructor Led Lab - Temperature Conversion Program\n",
    "\n",
    "This code with convert temperatures for values provided in Celcius, Fahrenheit, and Kelvin.\n",
    "\n",
    "---\n",
    "\n",
    "## Welcome to my temparture converter! &#x1F321;\n",
    "\n",
    "### Create Variables"
   ]
  },
  {
   "cell_type": "code",
   "execution_count": 3,
   "id": "cf88fbf7-1674-4b9a-83d5-10f67db7fd1f",
   "metadata": {},
   "outputs": [],
   "source": [
    "celsius = 0.0\n",
    "fahrenheit = 0.0\n",
    "kelvin = 0.0"
   ]
  },
  {
   "cell_type": "markdown",
   "id": "f3a8f0d3-91bb-4328-915a-816685dfbcd3",
   "metadata": {},
   "source": [
    "### Get User Input"
   ]
  },
  {
   "cell_type": "code",
   "execution_count": 5,
   "id": "23c9c1b9-0e8d-488a-afbc-b5b33ec947e8",
   "metadata": {},
   "outputs": [
    {
     "name": "stdin",
     "output_type": "stream",
     "text": [
      "Please provide a value, in Celsius, to convert:\n",
      " 80\n"
     ]
    }
   ],
   "source": [
    "text = float(input(\"Please provide a value, in Celsius, to convert:\\n\"))"
   ]
  },
  {
   "cell_type": "code",
   "execution_count": 6,
   "id": "2604f545-cd11-41b0-8018-1a1d8807df23",
   "metadata": {},
   "outputs": [],
   "source": [
    "celsius = text"
   ]
  },
  {
   "cell_type": "markdown",
   "id": "7bd4aa6f-f39f-4428-a1b7-65b0fe77acb5",
   "metadata": {},
   "source": [
    "### Convert Celcius to Fahrenheit"
   ]
  },
  {
   "cell_type": "code",
   "execution_count": 8,
   "id": "2486afa8-4a2d-45ef-be1b-e26595a99aa7",
   "metadata": {},
   "outputs": [],
   "source": [
    "fahrenheit = (9/5) * celsius + 32"
   ]
  },
  {
   "cell_type": "markdown",
   "id": "e5f8e0ee-f37b-4a21-ba48-27ff409c9ef6",
   "metadata": {},
   "source": [
    "### Convert Celcius to Kelvin"
   ]
  },
  {
   "cell_type": "code",
   "execution_count": 10,
   "id": "85494678-a1e1-486e-aedf-11b0523c8091",
   "metadata": {},
   "outputs": [],
   "source": [
    "kelvin = celsius + 273.15"
   ]
  },
  {
   "cell_type": "markdown",
   "id": "5b7533ea-f038-42cd-8233-9df05ff26b5b",
   "metadata": {},
   "source": [
    "### Display Conversion Result"
   ]
  },
  {
   "cell_type": "code",
   "execution_count": 12,
   "id": "9a87280b-66a3-44c8-a0ce-bdb53cc6ba17",
   "metadata": {},
   "outputs": [
    {
     "name": "stdout",
     "output_type": "stream",
     "text": [
      "80.0 degrees celsius is 176.0 degrees fahrenheit which is 353.15 degrees Kelvin.\n"
     ]
    }
   ],
   "source": [
    "print(f\"{celsius} degrees celsius is {fahrenheit} degrees fahrenheit which is {kelvin} degrees Kelvin.\")"
   ]
  },
  {
   "cell_type": "markdown",
   "id": "03250fa0-4f92-407c-81fb-35b72c98ae51",
   "metadata": {},
   "source": [
    "### Create Additional Variables"
   ]
  },
  {
   "cell_type": "code",
   "execution_count": 14,
   "id": "d7a35a3f-f7f0-48a0-b136-f2ac167b8d05",
   "metadata": {},
   "outputs": [],
   "source": [
    "celsius_two =  0.0\n",
    "fahrenheit_two = 0.0\n",
    "kelvin_two = 0.0"
   ]
  },
  {
   "cell_type": "markdown",
   "id": "71c67f62-915b-42c2-ab45-c3cf0c7d61c8",
   "metadata": {},
   "source": [
    "### Get User Input"
   ]
  },
  {
   "cell_type": "code",
   "execution_count": 16,
   "id": "5df9f211-f439-42ae-9904-6877b1ab1973",
   "metadata": {},
   "outputs": [
    {
     "name": "stdin",
     "output_type": "stream",
     "text": [
      "Please provide a value, in Celsius, to convert:\n",
      " -10\n"
     ]
    }
   ],
   "source": [
    "celsius_two = float(input(\"Please provide a value, in Celsius, to convert:\\n\"))"
   ]
  },
  {
   "cell_type": "markdown",
   "id": "555fa1b4-1686-437d-a313-8760002aa819",
   "metadata": {},
   "source": [
    "### Convert Celsius 2 to Fahrenheit 2"
   ]
  },
  {
   "cell_type": "code",
   "execution_count": 18,
   "id": "21b45520-1549-4c72-986d-9721f8d3f8e9",
   "metadata": {},
   "outputs": [],
   "source": [
    "fahrenheit_two = (9/5) * celsius_two + 32"
   ]
  },
  {
   "cell_type": "markdown",
   "id": "abd1b7d5-6fcc-4ece-8a1c-35e2bb758cd7",
   "metadata": {},
   "source": [
    "### Convert Celcius to Kelvin"
   ]
  },
  {
   "cell_type": "code",
   "execution_count": 20,
   "id": "622d67f2-42b4-441e-aca6-9a6e0c70fd63",
   "metadata": {},
   "outputs": [],
   "source": [
    "kelvin_two = celsius_two + 273.15"
   ]
  },
  {
   "cell_type": "markdown",
   "id": "3c741410-5656-4a9f-aba9-11d1e11c693b",
   "metadata": {},
   "source": [
    "### Display Conversion 2 Result"
   ]
  },
  {
   "cell_type": "code",
   "execution_count": 22,
   "id": "5850a936-6b71-476b-adca-3b7dbd42cf52",
   "metadata": {},
   "outputs": [
    {
     "name": "stdout",
     "output_type": "stream",
     "text": [
      "Second Set of values: -10.0 degrees celsius is 14.0 degrees fahrenheit which is 263.15 degrees Kelvin.\n"
     ]
    }
   ],
   "source": [
    "print(f\"Second Set of values: {celsius_two} degrees celsius is {fahrenheit_two} degrees fahrenheit which is {kelvin_two} degrees Kelvin.\")"
   ]
  },
  {
   "cell_type": "markdown",
   "id": "fff85946-6cf5-42a8-9f0f-40d0cf99fe7c",
   "metadata": {},
   "source": [
    "### Compare Temperatures"
   ]
  },
  {
   "cell_type": "code",
   "execution_count": 24,
   "id": "14cf192a-a91a-42d8-9eb6-4121d7554e36",
   "metadata": {},
   "outputs": [
    {
     "name": "stdout",
     "output_type": "stream",
     "text": [
      "The original Celsius value of 80.0 is larger than the new value of -10.0.\n"
     ]
    }
   ],
   "source": [
    "#### Celcius\n",
    "if celsius > celsius_two:\n",
    "    print(f\"The original Celsius value of {celsius} is larger than the new value of {celsius_two}.\")\n",
    "elif celsius < celsius_two:\n",
    "    print(f\"The original Celsius value of {celsius} is smaller than the new value of {celsius_two}.\")\n",
    "elif celsius == celsius_two:\n",
    "    print(f\"The original Celsius value of {celsius} equals the new value of {celsius_two}.\")"
   ]
  },
  {
   "cell_type": "markdown",
   "id": "6f3f15d3-0cd7-44c6-a52b-041316bf9ae2",
   "metadata": {},
   "source": [
    "### Logical Operator Output"
   ]
  },
  {
   "cell_type": "code",
   "execution_count": 26,
   "id": "8f7ccf1b-9cbc-46cb-b828-9dab15d5a5f3",
   "metadata": {},
   "outputs": [
    {
     "name": "stdout",
     "output_type": "stream",
     "text": [
      "Python speaks the truth!\n"
     ]
    }
   ],
   "source": [
    "if (celsius == celsius_two) and (fahrenheit < fahrenheit_two):\n",
    "    print(f\"Python lies.\")\n",
    "elif (celsius == celsius_two) or (kelvin != kelvin_two):\n",
    "    print(f\"Python speaks the truth!\")"
   ]
  }
 ],
 "metadata": {
  "kernelspec": {
   "display_name": "Python [conda env:base] *",
   "language": "python",
   "name": "conda-base-py"
  },
  "language_info": {
   "codemirror_mode": {
    "name": "ipython",
    "version": 3
   },
   "file_extension": ".py",
   "mimetype": "text/x-python",
   "name": "python",
   "nbconvert_exporter": "python",
   "pygments_lexer": "ipython3",
   "version": "3.12.7"
  }
 },
 "nbformat": 4,
 "nbformat_minor": 5
}
