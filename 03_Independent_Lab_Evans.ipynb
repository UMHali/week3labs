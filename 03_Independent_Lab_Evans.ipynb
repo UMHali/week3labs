{
 "cells": [
  {
   "cell_type": "markdown",
   "id": "051137ca-4428-47d2-b2d7-d9ef945a3d22",
   "metadata": {},
   "source": [
    "# Self-Service Kiosk"
   ]
  },
  {
   "cell_type": "markdown",
   "id": "b4b5c749-ed03-4e33-aa1c-33295a238a53",
   "metadata": {},
   "source": [
    "## Create Products"
   ]
  },
  {
   "cell_type": "code",
   "execution_count": 3,
   "id": "f114eea0-e9da-4502-9fc5-a7ab6e148cb0",
   "metadata": {},
   "outputs": [],
   "source": [
    "product1_price = 50.00\n",
    "product2_price = 78.00\n",
    "product3_price = 469.00\n",
    "product4_price = 259.00\n",
    "product5_price = 459.00\n",
    "product1_name = \"Single Day Ticket - Weekday\"\n",
    "product2_name = \"Single Day Ticket - Weekend\"\n",
    "product3_name = \"Season Pass - Adult\"\n",
    "product4_name = \"Season Pass - Child\"\n",
    "product5_name = \"Season Pass - Senior\""
   ]
  },
  {
   "cell_type": "markdown",
   "id": "0b87a7be-3d15-488e-8a47-5dbbaa4fad21",
   "metadata": {},
   "source": [
    "## Tracking Variables"
   ]
  },
  {
   "cell_type": "code",
   "execution_count": 5,
   "id": "860cc5b0-41b8-4b19-b886-98a36be4bdc4",
   "metadata": {},
   "outputs": [],
   "source": [
    "quantity1 = 0\n",
    "quantity2 = 0 \n",
    "quantity3 = 0 \n",
    "quantity4 = 0 \n",
    "quantity5 = 0\n",
    "total = 0.0"
   ]
  },
  {
   "cell_type": "markdown",
   "id": "62d57ddd-4669-44c1-b8bf-11eb900dfa1f",
   "metadata": {},
   "source": [
    "## Products Available"
   ]
  },
  {
   "cell_type": "code",
   "execution_count": 7,
   "id": "a132015b-55bd-4b4e-bab8-9559bfe28db0",
   "metadata": {},
   "outputs": [
    {
     "name": "stdout",
     "output_type": "stream",
     "text": [
      "Welcome! This kiosk sells tickets and passes for your local ski resort.\n",
      "Please place your order by selecting the product and subseqently providing the quantity desired.\n",
      "\n",
      "Here are the ticket options:\n",
      "\n",
      "| 1 | Single Day Ticket - Weekday: $50\n",
      "| 2 | Single Day Ticket - Weekend: $78\n",
      "| 3 | Season Pass - Adult: $469\n",
      "| 4 | Season Pass - Child: $259\n",
      "| 5 | Season Pass - Senior: $459\n",
      "\n"
     ]
    },
    {
     "name": "stdin",
     "output_type": "stream",
     "text": [
      "What would you like to purchase? 1\n",
      "How many would you like to purchase?\n",
      " 4\n"
     ]
    },
    {
     "name": "stdout",
     "output_type": "stream",
     "text": [
      "You want 4 of Single Day Ticket - Weekday.\n",
      "\n",
      "The current total for your order is $200.0\n",
      "\n"
     ]
    },
    {
     "name": "stdin",
     "output_type": "stream",
     "text": [
      "If you are finished ordering, please input 1; otherwise, if you would like to add to your order, please input 2. 2\n"
     ]
    },
    {
     "name": "stdout",
     "output_type": "stream",
     "text": [
      "Adding to your order...\n",
      "\n",
      "Welcome! This kiosk sells tickets and passes for your local ski resort.\n",
      "Please place your order by selecting the product and subseqently providing the quantity desired.\n",
      "\n",
      "Here are the ticket options:\n",
      "\n",
      "| 1 | Single Day Ticket - Weekday: $50\n",
      "| 2 | Single Day Ticket - Weekend: $78\n",
      "| 3 | Season Pass - Adult: $469\n",
      "| 4 | Season Pass - Child: $259\n",
      "| 5 | Season Pass - Senior: $459\n",
      "\n"
     ]
    },
    {
     "name": "stdin",
     "output_type": "stream",
     "text": [
      "What would you like to purchase? 1\n",
      "How many would you like to purchase?\n",
      " 4\n"
     ]
    },
    {
     "name": "stdout",
     "output_type": "stream",
     "text": [
      "You want 4 of Single Day Ticket - Weekday.\n",
      "\n",
      "The current total for your order is $400.0\n",
      "\n"
     ]
    },
    {
     "name": "stdin",
     "output_type": "stream",
     "text": [
      "If you are finished ordering, please input 1; otherwise, if you would like to add to your order, please input 2. 1\n"
     ]
    },
    {
     "name": "stdout",
     "output_type": "stream",
     "text": [
      "The current total for your order is $400.0\n",
      "\n",
      "Here is a summary of your final order:\n",
      "\n",
      "| Product | Quantity |\n",
      "| Single Day Ticket - Weekday | 8 |\n",
      "| Single Day Ticket - Weekend | 0 |\n",
      "| Season Pass - Adult | 0 |\n",
      "| Season Pass - Child | 0 |\n",
      "| Season Pass - Senior | 0 |\n",
      "\n",
      "The total cost for your order is $400.0\n"
     ]
    }
   ],
   "source": [
    "while True:\n",
    "    print(\"Welcome! This kiosk sells tickets and passes for your local ski resort.\")\n",
    "    print(\"Please place your order by selecting the product and subseqently providing the quantity desired.\")\n",
    "    print(\"\\nHere are the ticket options:\\n\")\n",
    "    print(f\"| 1 | {product1_name}: ${int(product1_price)}\")\n",
    "    print(f\"| 2 | {product2_name}: ${int(product2_price)}\")\n",
    "    print(f\"| 3 | {product3_name}: ${int(product3_price)}\")\n",
    "    print(f\"| 4 | {product4_name}: ${int(product4_price)}\")\n",
    "    print(f\"| 5 | {product5_name}: ${int(product5_price)}\\n\")\n",
    "    \n",
    "    ## Get User Product Input\n",
    "    choice = input(\"What would you like to purchase?\")\n",
    "\n",
    "    ## Product Conversion\n",
    "    if choice == \"1\":\n",
    "        product_name =  product1_name\n",
    "        product_price = product1_price\n",
    "    elif choice == \"2\": \n",
    "        product_name =  product2_name\n",
    "        product_price = product2_price\n",
    "    elif choice == \"3\":\n",
    "        product_name =  product3_name\n",
    "        product_price = product3_price  \n",
    "    elif choice == \"4\":\n",
    "        product_name =  product4_name\n",
    "        product_price = product4_price\n",
    "    elif choice == \"5\":\n",
    "        product_name =  product5_name\n",
    "        product_price = product5_price\n",
    "    else:\n",
    "        print(\"That is not an option. Please try again.\\n\")\n",
    "        continue\n",
    "\n",
    "    ## Get User Quantity\n",
    "    quantity = input(\"How many would you like to purchase?\\n\")\n",
    "    quantity_output = int(quantity)\n",
    "\n",
    "    ## Selection Confirmation Message\n",
    "    print(f\"You want {quantity_output} of {product_name}.\\n\")\n",
    "\n",
    "    ## Update Order Quantity\n",
    "    if choice == \"1\":\n",
    "        quantity1 += quantity_output\n",
    "    elif choice == \"2\":\n",
    "        quantity2 += quantity_output\n",
    "    elif choice == \"3\":\n",
    "        quantity3 += quantity_output\n",
    "    elif choice == \"4\":\n",
    "        quantity4 += quantity_output\n",
    "    elif choice == \"5\":\n",
    "        quantity5 += quantity_output\n",
    "        \n",
    "    ## Order Calculation\n",
    "    total += product_price * quantity_output\n",
    "\n",
    "    ## Current Total Message\n",
    "    print(f\"The current total for your order is ${total}\\n\")\n",
    "\n",
    "    ## Continue Ordering Prompt\n",
    "    order_finished = input(\"If you are finished ordering, please input 1; otherwise, if you would like to add to your order, please input 2.\")\n",
    "\n",
    "    ## Finish Loop\n",
    "    if order_finished == \"1\":\n",
    "        print(f\"The current total for your order is ${total}\\n\")\n",
    "        print(f\"Here is a summary of your final order:\\n\")\n",
    "        print(\"| Product | Quantity |\")\n",
    "        print(f\"| {product1_name} | {quantity1} |\")\n",
    "        print(f\"| {product2_name} | {quantity2} |\")\n",
    "        print(f\"| {product3_name} | {quantity3} |\")\n",
    "        print(f\"| {product4_name} | {quantity4} |\")\n",
    "        print(f\"| {product5_name} | {quantity5} |\")\n",
    "        print(f\"\\nThe total cost for your order is ${total}\")\n",
    "        break \n",
    "    elif order_finished == \"2\":\n",
    "        print(\"Adding to your order...\\n\")\n",
    "    else:\n",
    "        print(\"This is not an option. Please try again.\\n\")\n",
    "    "
   ]
  }
 ],
 "metadata": {
  "jupytext": {
   "formats": "ipynb,py:light"
  },
  "kernelspec": {
   "display_name": "Python [conda env:base] *",
   "language": "python",
   "name": "conda-base-py"
  },
  "language_info": {
   "codemirror_mode": {
    "name": "ipython",
    "version": 3
   },
   "file_extension": ".py",
   "mimetype": "text/x-python",
   "name": "python",
   "nbconvert_exporter": "python",
   "pygments_lexer": "ipython3",
   "version": "3.12.7"
  }
 },
 "nbformat": 4,
 "nbformat_minor": 5
}
